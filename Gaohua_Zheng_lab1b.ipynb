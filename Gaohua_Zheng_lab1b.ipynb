{
 "cells": [
  {
   "cell_type": "code",
   "execution_count": 60,
   "metadata": {},
   "outputs": [],
   "source": [
    "import torch\n",
    "from torchvision import datasets\n",
    "from torchvision.transforms import ToTensor\n",
    "import numpy\n",
    "train_data = datasets.MNIST(\n",
    "    root = 'data',\n",
    "    train = True,                         \n",
    "    transform = ToTensor(), \n",
    "    download = True,            \n",
    ")\n",
    "test_data = datasets.MNIST(\n",
    "    root = 'data', \n",
    "    train = False, \n",
    "    transform = ToTensor()\n",
    ")"
   ]
  },
  {
   "cell_type": "code",
   "execution_count": 3,
   "metadata": {},
   "outputs": [
    {
     "name": "stdout",
     "output_type": "stream",
     "text": [
      "Dataset MNIST\n",
      "    Number of datapoints: 60000\n",
      "    Root location: data\n",
      "    Split: Train\n",
      "    StandardTransform\n",
      "Transform: ToTensor()\n"
     ]
    }
   ],
   "source": [
    "print(train_data)"
   ]
  },
  {
   "cell_type": "code",
   "execution_count": 76,
   "metadata": {},
   "outputs": [
    {
     "data": {
      "text/plain": [
       "tensor([0, 1, 2, 3, 4, 5, 6, 7, 8, 9])"
      ]
     },
     "execution_count": 76,
     "metadata": {},
     "output_type": "execute_result"
    }
   ],
   "source": [
    "train_data.targets.unique()"
   ]
  },
  {
   "cell_type": "code",
   "execution_count": 4,
   "metadata": {},
   "outputs": [
    {
     "name": "stdout",
     "output_type": "stream",
     "text": [
      "torch.Size([60000, 28, 28])\n"
     ]
    }
   ],
   "source": [
    "print(train_data.data.size())"
   ]
  },
  {
   "cell_type": "code",
   "execution_count": 5,
   "metadata": {},
   "outputs": [
    {
     "data": {
      "image/png": "[encoded data removed]",
      "text/plain": [
       "<Figure size 432x288 with 1 Axes>"
      ]
     },
     "metadata": {
      "needs_background": "light"
     },
     "output_type": "display_data"
    }
   ],
   "source": [
    "import matplotlib.pyplot as plt\n",
    "plt.imshow(train_data.data[0], cmap='gray')\n",
    "plt.title('%i' % train_data.targets[0])\n",
    "plt.show()"
   ]
  },
  {
   "cell_type": "code",
   "execution_count": 8,
   "metadata": {},
   "outputs": [
    {
     "data": {
      "text/plain": [
       "torch.Size([60000])"
      ]
     },
     "execution_count": 8,
     "metadata": {},
     "output_type": "execute_result"
    }
   ],
   "source": [
    "train_data.targets.shape"
   ]
  },
  {
   "cell_type": "code",
   "execution_count": 9,
   "metadata": {},
   "outputs": [
    {
     "data": {
      "text/plain": [
       "tensor([0.0100, 0.0100, 0.0100, 0.0100, 0.0100, 0.0100, 0.0100, 0.0100, 0.0100,\n",
       "        0.0100, 0.0100, 0.0100, 0.0100, 0.0100, 0.0100, 0.0100, 0.0100, 0.0100,\n",
       "        0.0100, 0.0100, 0.0100, 0.0100, 0.0100, 0.0100, 0.0100, 0.0100, 0.0100,\n",
       "        0.0100, 0.0100, 0.0100, 0.0100, 0.0100, 0.0100, 0.0100, 0.0100, 0.0100,\n",
       "        0.0100, 0.0100, 0.0100, 0.0100, 0.0100, 0.0100, 0.0100, 0.0100, 0.0100,\n",
       "        0.0100, 0.0100, 0.0100, 0.0100, 0.0100, 0.0100, 0.0100, 0.0100, 0.0100,\n",
       "        0.0100, 0.0100, 0.0100, 0.0100, 0.0100, 0.0100, 0.0100, 0.0100, 0.0100,\n",
       "        0.0100, 0.0100, 0.0100, 0.0100, 0.0100, 0.0100, 0.0100, 0.0100, 0.0100,\n",
       "        0.0100, 0.0100, 0.0100, 0.0100, 0.0100, 0.0100, 0.0100, 0.0100, 0.0100,\n",
       "        0.0100, 0.0100, 0.0100, 0.0100, 0.0100, 0.0100, 0.0100, 0.0100, 0.0100,\n",
       "        0.0100, 0.0100, 0.0100, 0.0100, 0.0100, 0.0100, 0.0100, 0.0100, 0.0100,\n",
       "        0.0100, 0.0100, 0.0100, 0.0100, 0.0100, 0.0100, 0.0100, 0.0100, 0.0100,\n",
       "        0.0100, 0.0100, 0.0100, 0.0100, 0.0100, 0.0100, 0.0100, 0.0100, 0.0100,\n",
       "        0.0100, 0.0100, 0.0100, 0.0100, 0.0100, 0.0100, 0.0100, 0.0100, 0.0100,\n",
       "        0.0100, 0.0100, 0.0100, 0.0100, 0.0100, 0.0100, 0.0100, 0.0100, 0.0100,\n",
       "        0.0100, 0.0100, 0.0100, 0.0100, 0.0100, 0.0100, 0.0100, 0.0100, 0.0100,\n",
       "        0.0100, 0.0100, 0.0100, 0.0100, 0.0100, 0.0100, 0.0100, 0.0100, 0.0216,\n",
       "        0.0799, 0.0799, 0.0799, 0.4992, 0.5380, 0.6894, 0.1109, 0.6545, 1.0000,\n",
       "        0.9689, 0.5031, 0.0100, 0.0100, 0.0100, 0.0100, 0.0100, 0.0100, 0.0100,\n",
       "        0.0100, 0.0100, 0.0100, 0.0100, 0.0100, 0.1265, 0.1498, 0.3749, 0.6079,\n",
       "        0.6700, 0.9922, 0.9922, 0.9922, 0.9922, 0.9922, 0.8835, 0.6778, 0.9922,\n",
       "        0.9495, 0.7671, 0.2585, 0.0100, 0.0100, 0.0100, 0.0100, 0.0100, 0.0100,\n",
       "        0.0100, 0.0100, 0.0100, 0.0100, 0.0100, 0.2002, 0.9340, 0.9922, 0.9922,\n",
       "        0.9922, 0.9922, 0.9922, 0.9922, 0.9922, 0.9922, 0.9845, 0.3711, 0.3284,\n",
       "        0.3284, 0.2274, 0.1614, 0.0100, 0.0100, 0.0100, 0.0100, 0.0100, 0.0100,\n",
       "        0.0100, 0.0100, 0.0100, 0.0100, 0.0100, 0.0100, 0.0799, 0.8602, 0.9922,\n",
       "        0.9922, 0.9922, 0.9922, 0.9922, 0.7787, 0.7166, 0.9689, 0.9456, 0.0100,\n",
       "        0.0100, 0.0100, 0.0100, 0.0100, 0.0100, 0.0100, 0.0100, 0.0100, 0.0100,\n",
       "        0.0100, 0.0100, 0.0100, 0.0100, 0.0100, 0.0100, 0.0100, 0.0100, 0.3206,\n",
       "        0.6156, 0.4254, 0.9922, 0.9922, 0.8059, 0.0527, 0.0100, 0.1769, 0.6079,\n",
       "        0.0100, 0.0100, 0.0100, 0.0100, 0.0100, 0.0100, 0.0100, 0.0100, 0.0100,\n",
       "        0.0100, 0.0100, 0.0100, 0.0100, 0.0100, 0.0100, 0.0100, 0.0100, 0.0100,\n",
       "        0.0100, 0.0644, 0.0139, 0.6079, 0.9922, 0.3594, 0.0100, 0.0100, 0.0100,\n",
       "        0.0100, 0.0100, 0.0100, 0.0100, 0.0100, 0.0100, 0.0100, 0.0100, 0.0100,\n",
       "        0.0100, 0.0100, 0.0100, 0.0100, 0.0100, 0.0100, 0.0100, 0.0100, 0.0100,\n",
       "        0.0100, 0.0100, 0.0100, 0.0100, 0.5496, 0.9922, 0.7476, 0.0178, 0.0100,\n",
       "        0.0100, 0.0100, 0.0100, 0.0100, 0.0100, 0.0100, 0.0100, 0.0100, 0.0100,\n",
       "        0.0100, 0.0100, 0.0100, 0.0100, 0.0100, 0.0100, 0.0100, 0.0100, 0.0100,\n",
       "        0.0100, 0.0100, 0.0100, 0.0100, 0.0100, 0.0527, 0.7476, 0.9922, 0.2818,\n",
       "        0.0100, 0.0100, 0.0100, 0.0100, 0.0100, 0.0100, 0.0100, 0.0100, 0.0100,\n",
       "        0.0100, 0.0100, 0.0100, 0.0100, 0.0100, 0.0100, 0.0100, 0.0100, 0.0100,\n",
       "        0.0100, 0.0100, 0.0100, 0.0100, 0.0100, 0.0100, 0.0100, 0.1459, 0.9456,\n",
       "        0.8835, 0.6312, 0.4293, 0.0139, 0.0100, 0.0100, 0.0100, 0.0100, 0.0100,\n",
       "        0.0100, 0.0100, 0.0100, 0.0100, 0.0100, 0.0100, 0.0100, 0.0100, 0.0100,\n",
       "        0.0100, 0.0100, 0.0100, 0.0100, 0.0100, 0.0100, 0.0100, 0.0100, 0.0100,\n",
       "        0.3245, 0.9418, 0.9922, 0.9922, 0.4720, 0.1071, 0.0100, 0.0100, 0.0100,\n",
       "        0.0100, 0.0100, 0.0100, 0.0100, 0.0100, 0.0100, 0.0100, 0.0100, 0.0100,\n",
       "        0.0100, 0.0100, 0.0100, 0.0100, 0.0100, 0.0100, 0.0100, 0.0100, 0.0100,\n",
       "        0.0100, 0.0100, 0.1847, 0.7321, 0.9922, 0.9922, 0.5924, 0.1148, 0.0100,\n",
       "        0.0100, 0.0100, 0.0100, 0.0100, 0.0100, 0.0100, 0.0100, 0.0100, 0.0100,\n",
       "        0.0100, 0.0100, 0.0100, 0.0100, 0.0100, 0.0100, 0.0100, 0.0100, 0.0100,\n",
       "        0.0100, 0.0100, 0.0100, 0.0100, 0.0721, 0.3711, 0.9884, 0.9922, 0.7360,\n",
       "        0.0100, 0.0100, 0.0100, 0.0100, 0.0100, 0.0100, 0.0100, 0.0100, 0.0100,\n",
       "        0.0100, 0.0100, 0.0100, 0.0100, 0.0100, 0.0100, 0.0100, 0.0100, 0.0100,\n",
       "        0.0100, 0.0100, 0.0100, 0.0100, 0.0100, 0.0100, 0.0100, 0.9767, 0.9922,\n",
       "        0.9767, 0.2585, 0.0100, 0.0100, 0.0100, 0.0100, 0.0100, 0.0100, 0.0100,\n",
       "        0.0100, 0.0100, 0.0100, 0.0100, 0.0100, 0.0100, 0.0100, 0.0100, 0.0100,\n",
       "        0.0100, 0.0100, 0.0100, 0.0100, 0.0100, 0.1886, 0.5147, 0.7205, 0.9922,\n",
       "        0.9922, 0.8136, 0.0178, 0.0100, 0.0100, 0.0100, 0.0100, 0.0100, 0.0100,\n",
       "        0.0100, 0.0100, 0.0100, 0.0100, 0.0100, 0.0100, 0.0100, 0.0100, 0.0100,\n",
       "        0.0100, 0.0100, 0.0100, 0.0100, 0.1614, 0.5846, 0.8991, 0.9922, 0.9922,\n",
       "        0.9922, 0.9806, 0.7166, 0.0100, 0.0100, 0.0100, 0.0100, 0.0100, 0.0100,\n",
       "        0.0100, 0.0100, 0.0100, 0.0100, 0.0100, 0.0100, 0.0100, 0.0100, 0.0100,\n",
       "        0.0100, 0.0100, 0.0100, 0.1032, 0.4526, 0.8680, 0.9922, 0.9922, 0.9922,\n",
       "        0.9922, 0.7904, 0.3128, 0.0100, 0.0100, 0.0100, 0.0100, 0.0100, 0.0100,\n",
       "        0.0100, 0.0100, 0.0100, 0.0100, 0.0100, 0.0100, 0.0100, 0.0100, 0.0100,\n",
       "        0.0100, 0.0100, 0.0993, 0.2662, 0.8369, 0.9922, 0.9922, 0.9922, 0.9922,\n",
       "        0.7787, 0.3245, 0.0178, 0.0100, 0.0100, 0.0100, 0.0100, 0.0100, 0.0100,\n",
       "        0.0100, 0.0100, 0.0100, 0.0100, 0.0100, 0.0100, 0.0100, 0.0100, 0.0100,\n",
       "        0.0100, 0.0799, 0.6739, 0.8602, 0.9922, 0.9922, 0.9922, 0.9922, 0.7671,\n",
       "        0.3206, 0.0449, 0.0100, 0.0100, 0.0100, 0.0100, 0.0100, 0.0100, 0.0100,\n",
       "        0.0100, 0.0100, 0.0100, 0.0100, 0.0100, 0.0100, 0.0100, 0.0100, 0.0100,\n",
       "        0.2235, 0.6778, 0.8874, 0.9922, 0.9922, 0.9922, 0.9922, 0.9573, 0.5264,\n",
       "        0.0527, 0.0100, 0.0100, 0.0100, 0.0100, 0.0100, 0.0100, 0.0100, 0.0100,\n",
       "        0.0100, 0.0100, 0.0100, 0.0100, 0.0100, 0.0100, 0.0100, 0.0100, 0.0100,\n",
       "        0.0100, 0.5380, 0.9922, 0.9922, 0.9922, 0.8331, 0.5341, 0.5225, 0.0721,\n",
       "        0.0100, 0.0100, 0.0100, 0.0100, 0.0100, 0.0100, 0.0100, 0.0100, 0.0100,\n",
       "        0.0100, 0.0100, 0.0100, 0.0100, 0.0100, 0.0100, 0.0100, 0.0100, 0.0100,\n",
       "        0.0100, 0.0100, 0.0100, 0.0100, 0.0100, 0.0100, 0.0100, 0.0100, 0.0100,\n",
       "        0.0100, 0.0100, 0.0100, 0.0100, 0.0100, 0.0100, 0.0100, 0.0100, 0.0100,\n",
       "        0.0100, 0.0100, 0.0100, 0.0100, 0.0100, 0.0100, 0.0100, 0.0100, 0.0100,\n",
       "        0.0100, 0.0100, 0.0100, 0.0100, 0.0100, 0.0100, 0.0100, 0.0100, 0.0100,\n",
       "        0.0100, 0.0100, 0.0100, 0.0100, 0.0100, 0.0100, 0.0100, 0.0100, 0.0100,\n",
       "        0.0100, 0.0100, 0.0100, 0.0100, 0.0100, 0.0100, 0.0100, 0.0100, 0.0100,\n",
       "        0.0100, 0.0100, 0.0100, 0.0100, 0.0100, 0.0100, 0.0100, 0.0100, 0.0100,\n",
       "        0.0100, 0.0100, 0.0100, 0.0100, 0.0100, 0.0100, 0.0100, 0.0100, 0.0100,\n",
       "        0.0100, 0.0100, 0.0100, 0.0100, 0.0100, 0.0100, 0.0100, 0.0100, 0.0100,\n",
       "        0.0100])"
      ]
     },
     "execution_count": 9,
     "metadata": {},
     "output_type": "execute_result"
    }
   ],
   "source": [
    "train_data.data.reshape(60000, 784)[0]/255.0 * 0.99+0.01"
   ]
  },
  {
   "cell_type": "code",
   "execution_count": 59,
   "metadata": {},
   "outputs": [],
   "source": [
    "X_train = train_data.data.reshape(60000, 784)/255.0 * 0.99+0.01\n",
    "X_test = test_data.data.reshape(10000, 784)/255.0 * 0.99+0.01\n",
    "Y_train = torch.nn.functional.one_hot(train_data.targets, num_classes=10)\n",
    "# Encoding the categorical label for neural network  \n",
    "Y_train_final=numpy.zeros((60000,10))+0.01\n",
    "max_index = numpy.argmax(Y_train, axis=1)\n",
    "for i in range(Y_train.shape[0]):\n",
    "    Y_train_final[i, max_index[i]] = 0.09\n",
    "y_test = numpy.array(test_data.targets)"
   ]
  },
  {
   "cell_type": "code",
   "execution_count": 11,
   "metadata": {},
   "outputs": [
    {
     "data": {
      "text/plain": [
       "array([0.01, 0.01, 0.01, 0.01, 0.01, 0.09, 0.01, 0.01, 0.01, 0.01])"
      ]
     },
     "execution_count": 11,
     "metadata": {},
     "output_type": "execute_result"
    }
   ],
   "source": [
    "Y_train_final[0]"
   ]
  },
  {
   "cell_type": "code",
   "execution_count": 7,
   "metadata": {},
   "outputs": [],
   "source": [
    "import numpy\n",
    "# scipy.special for the sigmoid function expit()\n",
    "import scipy.special\n",
    "\n",
    "# neural network class definition\n",
    "class cs3806_neuralNetwork:\n",
    "    \n",
    "    # initialise the neural network\n",
    "    def __init__( self, inputnodes, hiddennodes, outputnodes, learningrate ):\n",
    "        # set number of nodes in each input, hidden, output layer\n",
    "        self.inodes = inputnodes\n",
    "        self.hnodes = hiddennodes\n",
    "        self.onodes = outputnodes\n",
    "        \n",
    "        # link weight matrices, wih and who\n",
    "        # weights inside the arrays are w_i_j, where link is from node i to node j in the next layer\n",
    "        # w11 w21\n",
    "        # w12 w22 etc \n",
    "        self.wih = numpy.random.normal(0.0, pow(self.inodes, -0.5), (self.hnodes, self.inodes))\n",
    "        self.who = numpy.random.normal(0.0, pow(self.hnodes, -0.5), (self.onodes, self.hnodes))\n",
    "\n",
    "        # learning rate\n",
    "        self.lr = learningrate\n",
    "        \n",
    "        # activation function is the sigmoid function\n",
    "        self.activation_function = lambda x: scipy.special.expit(x)\n",
    "        \n",
    "        pass\n",
    "    \n",
    "    # train the neural network\n",
    "    def train( self, inputs_list, targets_list ):\n",
    "        # convert inputs list to 2d array\n",
    "        inputs = numpy.array( inputs_list, ndmin=2 ).T\n",
    "        targets = numpy.array( targets_list, ndmin=2 ).T\n",
    "        \n",
    "        # calculate signals into hidden layer\n",
    "        hidden_inputs = numpy.dot( self.wih, inputs )\n",
    "        # calculate the signals emerging from hidden layer\n",
    "        hidden_outputs = self.activation_function( hidden_inputs )\n",
    "        \n",
    "        # calculate signals into final output layer\n",
    "        final_inputs = numpy.dot( self.who, hidden_outputs )\n",
    "        # calculate the signals emerging from final output layer\n",
    "        final_outputs = self.activation_function( final_inputs )\n",
    "        \n",
    "        # output layer error is the (target - actual)\n",
    "        output_errors = targets - final_outputs\n",
    "        # hidden layer error is the output_errors, split by weights, recombined at hidden nodes\n",
    "        hidden_errors = numpy.dot( self.who.T, output_errors )\n",
    "        \n",
    "        # update the weights for the links between the hidden and output layers\n",
    "        self.who += self.lr * numpy.dot( (output_errors * final_outputs * (1.0 - final_outputs) ), numpy.transpose(hidden_outputs) )\n",
    "        \n",
    "        # update the weights for the links between the input and hidden layers\n",
    "        self.wih += self.lr * numpy.dot(( hidden_errors * hidden_outputs * ( 1.0 - hidden_outputs) ), numpy.transpose(inputs) )\n",
    "        \n",
    "        pass\n",
    "\n",
    "    \n",
    "    # query the neural network\n",
    "    def query( self, inputs_list ):\n",
    "        # convert inputs list to 2d array\n",
    "        inputs = numpy.array( inputs_list, ndmin = 2 ).T\n",
    "        \n",
    "        # calculate signals into hidden layer\n",
    "        hidden_inputs = numpy.dot( self.wih, inputs )\n",
    "        # calculate the signals emerging from hidden layer\n",
    "        hidden_outputs = self.activation_function( hidden_inputs )\n",
    "        \n",
    "        # calculate signals into final output layer\n",
    "        final_inputs = numpy.dot( self.who, hidden_outputs )\n",
    "        # calculate the signals emerging from final output layer\n",
    "        final_outputs = self.activation_function( final_inputs )\n",
    "        \n",
    "        return final_outputs\n",
    "\n",
    "# number of input, hidden and output nodes\n",
    "input_nodes = 784\n",
    "hidden_nodes = 200\n",
    "output_nodes = 10\n",
    "\n",
    "# learning rate is 0.1\n",
    "learning_rate = 0.1\n",
    "\n",
    "# create instance of neural network\n",
    "n = cs3806_neuralNetwork( input_nodes,hidden_nodes,output_nodes, learning_rate )\n",
    "\n",
    "# test query\n",
    "#print( \"the array is: \", n.query([1.0, 0.4, -1.2]) )\n"
   ]
  },
  {
   "attachments": {},
   "cell_type": "markdown",
   "metadata": {},
   "source": [
    "## Quick test"
   ]
  },
  {
   "cell_type": "code",
   "execution_count": 12,
   "metadata": {},
   "outputs": [],
   "source": [
    "epochs = 1\n",
    "\n",
    "for e in range(epochs):\n",
    "    # go through all records in the training data set\n",
    "    for record in range(len(X_train[:3000])):\n",
    "        n.train(X_train[record], Y_train_final[record])"
   ]
  },
  {
   "cell_type": "code",
   "execution_count": 13,
   "metadata": {},
   "outputs": [
    {
     "data": {
      "text/plain": [
       "<matplotlib.image.AxesImage at 0x1f046881eb0>"
      ]
     },
     "execution_count": 13,
     "metadata": {},
     "output_type": "execute_result"
    },
    {
     "data": {
      "image/png": "[encoded data removed]",
      "text/plain": [
       "<Figure size 432x288 with 1 Axes>"
      ]
     },
     "metadata": {
      "needs_background": "light"
     },
     "output_type": "display_data"
    }
   ],
   "source": [
    "import matplotlib.pyplot\n",
    "matplotlib.pyplot.imshow(X_test[0].reshape(28,28), cmap='Greys', interpolation='None')\n"
   ]
  },
  {
   "cell_type": "code",
   "execution_count": 14,
   "metadata": {},
   "outputs": [
    {
     "data": {
      "text/plain": [
       "7"
      ]
     },
     "execution_count": 14,
     "metadata": {},
     "output_type": "execute_result"
    }
   ],
   "source": [
    "n.query(X_test[0]).argmax()"
   ]
  },
  {
   "cell_type": "code",
   "execution_count": 15,
   "metadata": {},
   "outputs": [
    {
     "data": {
      "text/plain": [
       "tensor(7)"
      ]
     },
     "execution_count": 15,
     "metadata": {},
     "output_type": "execute_result"
    }
   ],
   "source": [
    "test_data.targets[0]"
   ]
  },
  {
   "attachments": {},
   "cell_type": "markdown",
   "metadata": {},
   "source": [
    "## Full data with 1 epoch "
   ]
  },
  {
   "cell_type": "code",
   "execution_count": 16,
   "metadata": {},
   "outputs": [],
   "source": [
    "epochs = 1\n",
    "\n",
    "for e in range(epochs):\n",
    "    # go through all records in the training data set\n",
    "    for record in range(len(X_train)):\n",
    "        n.train(X_train[record], Y_train_final[record])\n"
   ]
  },
  {
   "cell_type": "code",
   "execution_count": 19,
   "metadata": {},
   "outputs": [],
   "source": [
    "y_pred_prob = n.query(X_test)"
   ]
  },
  {
   "cell_type": "code",
   "execution_count": 20,
   "metadata": {},
   "outputs": [
    {
     "data": {
      "text/plain": [
       "array([[0.01500869, 0.02173231, 0.01118435, ..., 0.00648167, 0.01693687,\n",
       "        0.01969174],\n",
       "       [0.01008629, 0.00990654, 0.09726093, ..., 0.01036471, 0.01479405,\n",
       "        0.01288083],\n",
       "       [0.01498389, 0.05079904, 0.01305865, ..., 0.00822208, 0.0081394 ,\n",
       "        0.01632935],\n",
       "       ...,\n",
       "       [0.09589329, 0.00626054, 0.01528819, ..., 0.01334787, 0.00842086,\n",
       "        0.00738345],\n",
       "       [0.01096805, 0.01312592, 0.01236509, ..., 0.01733142, 0.03292849,\n",
       "        0.00660909],\n",
       "       [0.01679333, 0.00768117, 0.01681626, ..., 0.02161106, 0.00770212,\n",
       "        0.01033742]])"
      ]
     },
     "execution_count": 20,
     "metadata": {},
     "output_type": "execute_result"
    }
   ],
   "source": [
    "y_pred_prob"
   ]
  },
  {
   "cell_type": "code",
   "execution_count": 63,
   "metadata": {},
   "outputs": [
    {
     "data": {
      "text/plain": [
       "0.8879"
      ]
     },
     "execution_count": 63,
     "metadata": {},
     "output_type": "execute_result"
    }
   ],
   "source": [
    "y_test_pred = numpy.argmax(y_pred_prob,axis = 0)\n",
    "accuracy = sum(y_test_pred == y_test) / len(y_test)\n",
    "accuracy"
   ]
  },
  {
   "attachments": {},
   "cell_type": "markdown",
   "metadata": {},
   "source": [
    "## Learning rate experiement"
   ]
  },
  {
   "cell_type": "code",
   "execution_count": 66,
   "metadata": {},
   "outputs": [],
   "source": [
    "def experiment(input_nodes=784, hidden_nodes=200, output_nodes=10, learning_rate=0.1, epochs=1):\n",
    "    n = cs3806_neuralNetwork( input_nodes,hidden_nodes,output_nodes, learning_rate )\n",
    "    for e in range(epochs):\n",
    "        # go through all records in the training data set\n",
    "        for record in range(len(X_train)):\n",
    "            n.train(X_train[record], Y_train_final[record])\n",
    "    y_pred_prob = n.query(X_test)\n",
    "    y_test_pred = numpy.argmax(y_pred_prob,axis = 0)\n",
    "    accuracy = sum(y_test_pred == y_test) / len(y_test)\n",
    "    return accuracy"
   ]
  },
  {
   "cell_type": "code",
   "execution_count": 68,
   "metadata": {},
   "outputs": [
    {
     "data": {
      "text/plain": [
       "0.8729"
      ]
     },
     "execution_count": 68,
     "metadata": {},
     "output_type": "execute_result"
    }
   ],
   "source": [
    "acc_lr_5 = experiment(learning_rate=0.05)\n",
    "acc_lr_5"
   ]
  },
  {
   "cell_type": "code",
   "execution_count": 69,
   "metadata": {},
   "outputs": [
    {
     "data": {
      "text/plain": [
       "0.9061"
      ]
     },
     "execution_count": 69,
     "metadata": {},
     "output_type": "execute_result"
    }
   ],
   "source": [
    "acc_lr_2 = experiment(learning_rate=0.2)\n",
    "acc_lr_2"
   ]
  },
  {
   "cell_type": "code",
   "execution_count": 67,
   "metadata": {},
   "outputs": [
    {
     "data": {
      "text/plain": [
       "0.9183"
      ]
     },
     "execution_count": 67,
     "metadata": {},
     "output_type": "execute_result"
    }
   ],
   "source": [
    "acc_lr_3 = experiment(learning_rate=0.3)\n",
    "acc_lr_3"
   ]
  },
  {
   "cell_type": "code",
   "execution_count": 70,
   "metadata": {},
   "outputs": [
    {
     "data": {
      "text/plain": [
       "0.9254"
      ]
     },
     "execution_count": 70,
     "metadata": {},
     "output_type": "execute_result"
    }
   ],
   "source": [
    "acc_lr_4 = experiment(learning_rate=0.4)\n",
    "acc_lr_4"
   ]
  },
  {
   "attachments": {},
   "cell_type": "markdown",
   "metadata": {},
   "source": [
    "## Epoch experiment"
   ]
  },
  {
   "cell_type": "code",
   "execution_count": 71,
   "metadata": {},
   "outputs": [
    {
     "data": {
      "text/plain": [
       "0.9346"
      ]
     },
     "execution_count": 71,
     "metadata": {},
     "output_type": "execute_result"
    }
   ],
   "source": [
    "acc_ep_5 = experiment(epochs=5)\n",
    "acc_ep_5"
   ]
  },
  {
   "cell_type": "code",
   "execution_count": 72,
   "metadata": {},
   "outputs": [
    {
     "data": {
      "text/plain": [
       "0.9221"
      ]
     },
     "execution_count": 72,
     "metadata": {},
     "output_type": "execute_result"
    }
   ],
   "source": [
    "acc_ep_3 = experiment(epochs=3)\n",
    "acc_ep_3"
   ]
  },
  {
   "attachments": {},
   "cell_type": "markdown",
   "metadata": {},
   "source": [
    "## Shape experiment"
   ]
  },
  {
   "cell_type": "code",
   "execution_count": 73,
   "metadata": {},
   "outputs": [
    {
     "data": {
      "text/plain": [
       "0.889"
      ]
     },
     "execution_count": 73,
     "metadata": {},
     "output_type": "execute_result"
    }
   ],
   "source": [
    "acc_hid_100 = experiment(hidden_nodes=100)\n",
    "acc_hid_100"
   ]
  },
  {
   "cell_type": "code",
   "execution_count": 74,
   "metadata": {},
   "outputs": [
    {
     "data": {
      "text/plain": [
       "0.8818"
      ]
     },
     "execution_count": 74,
     "metadata": {},
     "output_type": "execute_result"
    }
   ],
   "source": [
    "acc_hid_300 = experiment(hidden_nodes=300)\n",
    "acc_hid_300"
   ]
  },
  {
   "cell_type": "code",
   "execution_count": 75,
   "metadata": {},
   "outputs": [
    {
     "data": {
      "text/plain": [
       "0.88"
      ]
     },
     "execution_count": 75,
     "metadata": {},
     "output_type": "execute_result"
    }
   ],
   "source": [
    "acc_hid_500 = experiment(hidden_nodes=500)\n",
    "acc_hid_500"
   ]
  },
  {
   "cell_type": "code",
   "execution_count": null,
   "metadata": {},
   "outputs": [],
   "source": []
  },
  {
   "cell_type": "code",
   "execution_count": null,
   "metadata": {},
   "outputs": [],
   "source": []
  }
 ],
 "metadata": {
  "kernelspec": {
   "display_name": "pytorch",
   "language": "python",
   "name": "python3"
  },
  "language_info": {
   "codemirror_mode": {
    "name": "ipython",
    "version": 3
   },
   "file_extension": ".py",
   "mimetype": "text/x-python",
   "name": "python",
   "nbconvert_exporter": "python",
   "pygments_lexer": "ipython3",
   "version": "3.9.5"
  },
  "orig_nbformat": 4,
  "vscode": {
   "interpreter": {
    "hash": "85d496f06d0c5ad38173cfc8809dad95e528a22937c17c8f8d6a6870c6a009d6"
   }
  }
 },
 "nbformat": 4,
 "nbformat_minor": 2
}
